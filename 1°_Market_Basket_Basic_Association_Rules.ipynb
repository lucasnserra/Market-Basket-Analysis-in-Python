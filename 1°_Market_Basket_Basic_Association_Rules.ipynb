{
  "nbformat": 4,
  "nbformat_minor": 0,
  "metadata": {
    "colab": {
      "provenance": [],
      "authorship_tag": "ABX9TyOZs0aqCp92uVqpyps+i58f",
      "include_colab_link": true
    },
    "kernelspec": {
      "name": "python3",
      "display_name": "Python 3"
    },
    "language_info": {
      "name": "python"
    }
  },
  "cells": [
    {
      "cell_type": "markdown",
      "metadata": {
        "id": "view-in-github",
        "colab_type": "text"
      },
      "source": [
        "<a href=\"https://colab.research.google.com/github/lucasnserra/Market-Basket-Analysis-in-Python/blob/main/1%C2%B0_Market_Basket_Basic_Association_Rules.ipynb\" target=\"_parent\"><img src=\"https://colab.research.google.com/assets/colab-badge.svg\" alt=\"Open In Colab\"/></a>"
      ]
    },
    {
      "cell_type": "code",
      "execution_count": 22,
      "metadata": {
        "id": "XT6o47CN4OBq"
      },
      "outputs": [],
      "source": [
        "#Importo Librerias\n",
        "import numpy as np\n",
        "import pandas as pd\n",
        "import datetime as dt\n",
        "import matplotlib.pyplot as plt\n",
        "import seaborn as sns\n",
        "from itertools import permutations"
      ]
    },
    {
      "cell_type": "code",
      "source": [
        "#Cargo dataset y convierto en lista (busqueda de antecedentes y consecuentes)\n",
        "transactions = pd.read_csv('https://raw.githubusercontent.com/lucasnserra/Market-Basket-Analysis-in-Python/main/bookstore_transactions.csv')\n",
        "#transactions = transactions['Transaction'].apply(lambda t: t.split(','))\n",
        "#transactions = list(transactions)\n",
        "transactions['Transaction']\n"
      ],
      "metadata": {
        "id": "7-ICysPd6XDW",
        "colab": {
          "base_uri": "https://localhost:8080/"
        },
        "outputId": "70b98f58-723a-4980-a045-ab7512711121"
      },
      "execution_count": 23,
      "outputs": [
        {
          "output_type": "execute_result",
          "data": {
            "text/plain": [
              "0        History|Fiction\n",
              "1       History|Biogaphy\n",
              "2         History|Poetry\n",
              "3       Biogaphy|History\n",
              "4       Biogaphy|Fiction\n",
              "              ...       \n",
              "2717      Poetry|History\n",
              "2718      Poetry|History\n",
              "2719      Poetry|History\n",
              "2720      Poetry|History\n",
              "2721      Poetry|History\n",
              "Name: Transaction, Length: 2722, dtype: object"
            ]
          },
          "metadata": {},
          "execution_count": 23
        }
      ]
    },
    {
      "cell_type": "code",
      "source": [
        "#Utilizo Permutations de Itertools para crear una lista con todos los antecedendes y consecuentes unicos.\n",
        "#Estas lineas de codigo estan limitadas ya que funciona solamente con 1 antecedente y 1 consecuente. Tambien no limita o elige las mejores permutaciones \n",
        "flattened = [i for t in transactions for i in t]\n",
        "books = list(set(flattened))\n",
        "rules = list(permutations(books,2))\n",
        "#Obtengo cantidad de permutaciones distintas   \n",
        "len(rules)\n"
      ],
      "metadata": {
        "colab": {
          "base_uri": "https://localhost:8080/"
        },
        "id": "KiTderGy6Y_M",
        "outputId": "3a8e855e-1426-4704-a3c8-805d8672d815"
      },
      "execution_count": 24,
      "outputs": [
        {
          "output_type": "execute_result",
          "data": {
            "text/plain": [
              "72"
            ]
          },
          "metadata": {},
          "execution_count": 24
        }
      ]
    },
    {
      "cell_type": "code",
      "source": [
        "#Aplicacion de reglas  \n",
        "#-> Metrica (metric) = Medida de rendimiento de una regla\n",
        "#-> Poda (Pruning) = Utiliza una metrica para descargar reglas"
      ],
      "metadata": {
        "id": "Qjhy5hqbCiIl"
      },
      "execution_count": 25,
      "outputs": []
    },
    {
      "cell_type": "code",
      "source": [
        "#Aplicacion de Metrica Support \n",
        "transactions2  = pd.read_csv('https://raw.githubusercontent.com/lucasnserra/Market-Basket-Analysis-in-Python/main/bookstore_transactions.csv',index_col = False)\n",
        "transactions1 = transactions2['Transaction'].apply(lambda t: t.split('|'))\n",
        "transactions1 = list(transactions1)"
      ],
      "metadata": {
        "id": "oTzhizkCbuZh"
      },
      "execution_count": 26,
      "outputs": []
    },
    {
      "cell_type": "code",
      "source": [
        "#importo la libreria necesaria para crear la metrica\n",
        "from mlxtend.preprocessing import TransactionEncoder\n",
        "#Creo el encoder y lo entreno\n",
        "encoder = TransactionEncoder().fit(transactions1)\n",
        "#Hago el OneHot (Crea una matriz de True o False si aparece el atributo en la fila)\n",
        "onehot = encoder.transform(transactions1)\n",
        "#Creo DF \n",
        "onehot = pd.DataFrame(onehot,columns=encoder.columns_)\n",
        "#Obtengo metrica de soporte calculando la media (por cada items)\n",
        "onehot.mean()\n",
        "onehot"
      ],
      "metadata": {
        "colab": {
          "base_uri": "https://localhost:8080/",
          "height": 424
        },
        "id": "0tFpaukTCtPm",
        "outputId": "39c9c8a9-5b65-4bc8-832e-95d6b14a6b8c"
      },
      "execution_count": 27,
      "outputs": [
        {
          "output_type": "execute_result",
          "data": {
            "text/plain": [
              "      Biogaphy  Fiction  History  Poetry\n",
              "0        False     True     True   False\n",
              "1         True    False     True   False\n",
              "2        False    False     True    True\n",
              "3         True    False     True   False\n",
              "4         True     True    False   False\n",
              "...        ...      ...      ...     ...\n",
              "2717     False    False     True    True\n",
              "2718     False    False     True    True\n",
              "2719     False    False     True    True\n",
              "2720     False    False     True    True\n",
              "2721     False    False     True    True\n",
              "\n",
              "[2722 rows x 4 columns]"
            ],
            "text/html": [
              "\n",
              "  <div id=\"df-40b61a8a-f64f-4a86-80af-599cb22f06b4\">\n",
              "    <div class=\"colab-df-container\">\n",
              "      <div>\n",
              "<style scoped>\n",
              "    .dataframe tbody tr th:only-of-type {\n",
              "        vertical-align: middle;\n",
              "    }\n",
              "\n",
              "    .dataframe tbody tr th {\n",
              "        vertical-align: top;\n",
              "    }\n",
              "\n",
              "    .dataframe thead th {\n",
              "        text-align: right;\n",
              "    }\n",
              "</style>\n",
              "<table border=\"1\" class=\"dataframe\">\n",
              "  <thead>\n",
              "    <tr style=\"text-align: right;\">\n",
              "      <th></th>\n",
              "      <th>Biogaphy</th>\n",
              "      <th>Fiction</th>\n",
              "      <th>History</th>\n",
              "      <th>Poetry</th>\n",
              "    </tr>\n",
              "  </thead>\n",
              "  <tbody>\n",
              "    <tr>\n",
              "      <th>0</th>\n",
              "      <td>False</td>\n",
              "      <td>True</td>\n",
              "      <td>True</td>\n",
              "      <td>False</td>\n",
              "    </tr>\n",
              "    <tr>\n",
              "      <th>1</th>\n",
              "      <td>True</td>\n",
              "      <td>False</td>\n",
              "      <td>True</td>\n",
              "      <td>False</td>\n",
              "    </tr>\n",
              "    <tr>\n",
              "      <th>2</th>\n",
              "      <td>False</td>\n",
              "      <td>False</td>\n",
              "      <td>True</td>\n",
              "      <td>True</td>\n",
              "    </tr>\n",
              "    <tr>\n",
              "      <th>3</th>\n",
              "      <td>True</td>\n",
              "      <td>False</td>\n",
              "      <td>True</td>\n",
              "      <td>False</td>\n",
              "    </tr>\n",
              "    <tr>\n",
              "      <th>4</th>\n",
              "      <td>True</td>\n",
              "      <td>True</td>\n",
              "      <td>False</td>\n",
              "      <td>False</td>\n",
              "    </tr>\n",
              "    <tr>\n",
              "      <th>...</th>\n",
              "      <td>...</td>\n",
              "      <td>...</td>\n",
              "      <td>...</td>\n",
              "      <td>...</td>\n",
              "    </tr>\n",
              "    <tr>\n",
              "      <th>2717</th>\n",
              "      <td>False</td>\n",
              "      <td>False</td>\n",
              "      <td>True</td>\n",
              "      <td>True</td>\n",
              "    </tr>\n",
              "    <tr>\n",
              "      <th>2718</th>\n",
              "      <td>False</td>\n",
              "      <td>False</td>\n",
              "      <td>True</td>\n",
              "      <td>True</td>\n",
              "    </tr>\n",
              "    <tr>\n",
              "      <th>2719</th>\n",
              "      <td>False</td>\n",
              "      <td>False</td>\n",
              "      <td>True</td>\n",
              "      <td>True</td>\n",
              "    </tr>\n",
              "    <tr>\n",
              "      <th>2720</th>\n",
              "      <td>False</td>\n",
              "      <td>False</td>\n",
              "      <td>True</td>\n",
              "      <td>True</td>\n",
              "    </tr>\n",
              "    <tr>\n",
              "      <th>2721</th>\n",
              "      <td>False</td>\n",
              "      <td>False</td>\n",
              "      <td>True</td>\n",
              "      <td>True</td>\n",
              "    </tr>\n",
              "  </tbody>\n",
              "</table>\n",
              "<p>2722 rows × 4 columns</p>\n",
              "</div>\n",
              "      <button class=\"colab-df-convert\" onclick=\"convertToInteractive('df-40b61a8a-f64f-4a86-80af-599cb22f06b4')\"\n",
              "              title=\"Convert this dataframe to an interactive table.\"\n",
              "              style=\"display:none;\">\n",
              "        \n",
              "  <svg xmlns=\"http://www.w3.org/2000/svg\" height=\"24px\"viewBox=\"0 0 24 24\"\n",
              "       width=\"24px\">\n",
              "    <path d=\"M0 0h24v24H0V0z\" fill=\"none\"/>\n",
              "    <path d=\"M18.56 5.44l.94 2.06.94-2.06 2.06-.94-2.06-.94-.94-2.06-.94 2.06-2.06.94zm-11 1L8.5 8.5l.94-2.06 2.06-.94-2.06-.94L8.5 2.5l-.94 2.06-2.06.94zm10 10l.94 2.06.94-2.06 2.06-.94-2.06-.94-.94-2.06-.94 2.06-2.06.94z\"/><path d=\"M17.41 7.96l-1.37-1.37c-.4-.4-.92-.59-1.43-.59-.52 0-1.04.2-1.43.59L10.3 9.45l-7.72 7.72c-.78.78-.78 2.05 0 2.83L4 21.41c.39.39.9.59 1.41.59.51 0 1.02-.2 1.41-.59l7.78-7.78 2.81-2.81c.8-.78.8-2.07 0-2.86zM5.41 20L4 18.59l7.72-7.72 1.47 1.35L5.41 20z\"/>\n",
              "  </svg>\n",
              "      </button>\n",
              "      \n",
              "  <style>\n",
              "    .colab-df-container {\n",
              "      display:flex;\n",
              "      flex-wrap:wrap;\n",
              "      gap: 12px;\n",
              "    }\n",
              "\n",
              "    .colab-df-convert {\n",
              "      background-color: #E8F0FE;\n",
              "      border: none;\n",
              "      border-radius: 50%;\n",
              "      cursor: pointer;\n",
              "      display: none;\n",
              "      fill: #1967D2;\n",
              "      height: 32px;\n",
              "      padding: 0 0 0 0;\n",
              "      width: 32px;\n",
              "    }\n",
              "\n",
              "    .colab-df-convert:hover {\n",
              "      background-color: #E2EBFA;\n",
              "      box-shadow: 0px 1px 2px rgba(60, 64, 67, 0.3), 0px 1px 3px 1px rgba(60, 64, 67, 0.15);\n",
              "      fill: #174EA6;\n",
              "    }\n",
              "\n",
              "    [theme=dark] .colab-df-convert {\n",
              "      background-color: #3B4455;\n",
              "      fill: #D2E3FC;\n",
              "    }\n",
              "\n",
              "    [theme=dark] .colab-df-convert:hover {\n",
              "      background-color: #434B5C;\n",
              "      box-shadow: 0px 1px 3px 1px rgba(0, 0, 0, 0.15);\n",
              "      filter: drop-shadow(0px 1px 2px rgba(0, 0, 0, 0.3));\n",
              "      fill: #FFFFFF;\n",
              "    }\n",
              "  </style>\n",
              "\n",
              "      <script>\n",
              "        const buttonEl =\n",
              "          document.querySelector('#df-40b61a8a-f64f-4a86-80af-599cb22f06b4 button.colab-df-convert');\n",
              "        buttonEl.style.display =\n",
              "          google.colab.kernel.accessAllowed ? 'block' : 'none';\n",
              "\n",
              "        async function convertToInteractive(key) {\n",
              "          const element = document.querySelector('#df-40b61a8a-f64f-4a86-80af-599cb22f06b4');\n",
              "          const dataTable =\n",
              "            await google.colab.kernel.invokeFunction('convertToInteractive',\n",
              "                                                     [key], {});\n",
              "          if (!dataTable) return;\n",
              "\n",
              "          const docLinkHtml = 'Like what you see? Visit the ' +\n",
              "            '<a target=\"_blank\" href=https://colab.research.google.com/notebooks/data_table.ipynb>data table notebook</a>'\n",
              "            + ' to learn more about interactive tables.';\n",
              "          element.innerHTML = '';\n",
              "          dataTable['output_type'] = 'display_data';\n",
              "          await google.colab.output.renderOutput(dataTable, element);\n",
              "          const docLink = document.createElement('div');\n",
              "          docLink.innerHTML = docLinkHtml;\n",
              "          element.appendChild(docLink);\n",
              "        }\n",
              "      </script>\n",
              "    </div>\n",
              "  </div>\n",
              "  "
            ]
          },
          "metadata": {},
          "execution_count": 27
        }
      ]
    },
    {
      "cell_type": "code",
      "source": [
        "#Obtengo metrica de soporte por multiples items\n",
        "onehot['Poetry+History'] = np.logical_and(onehot['Poetry'],onehot['History'])\n",
        "onehot.mean() "
      ],
      "metadata": {
        "colab": {
          "base_uri": "https://localhost:8080/"
        },
        "id": "fzoFluBdFwE_",
        "outputId": "88b460fc-4e13-4a2d-a707-2c8c979e9955"
      },
      "execution_count": 28,
      "outputs": [
        {
          "output_type": "execute_result",
          "data": {
            "text/plain": [
              "Biogaphy          0.458486\n",
              "Fiction           0.250551\n",
              "History           0.955915\n",
              "Poetry            0.335048\n",
              "Poetry+History    0.303453\n",
              "dtype: float64"
            ]
          },
          "metadata": {},
          "execution_count": 28
        }
      ]
    },
    {
      "cell_type": "markdown",
      "source": [
        "Conclusiones: \n",
        "La metrica de Support puede ser sesgada si se trata de manera aislada ya que hay ciertos productos como la leche y el pan que son comunes en las compras y que estos se compren juntos no demuestra un comportamiento por el analisis de X-Sell. Por lo cual se debe sustentar con otras 2 metricas. \n",
        "-Metrica de confianza(Confidence Metric).\n",
        "-Metrica de Elavacion(Lift Metric).\n"
      ],
      "metadata": {
        "id": "pzi69Lncbi5N"
      }
    },
    {
      "cell_type": "markdown",
      "source": [
        "**La métrica de elevación**: se calcula como el soporte de los artículos X e Y dividido por el soporte de X multiplicado por el soporte de Y. El numerador nos da la proporción de transacciones que contienen tanto X como Y. El denominador nos dice cuál sería esa proporción si X e Y fueron asignados aleatoria e independientemente a las transacciones.\n"
      ],
      "metadata": {
        "id": "r1iZuhrC74I7"
      }
    },
    {
      "cell_type": "code",
      "source": [
        "# Compute support for Biogaphy and Fiction\n",
        "supportBF = np.logical_and(onehot['Biogaphy'], onehot['Fiction']).mean()\n",
        "\n",
        "# Compute support for Biogaphy and History\n",
        "supportBH = np.logical_and(onehot['Biogaphy'], onehot['History']).mean()\n",
        "\n",
        "# Compute support for Fiction and Biogaphy\n",
        "supportFB = np.logical_and(onehot['Fiction'], onehot['Biogaphy']).mean()\n",
        "\n",
        "# Print support values\n",
        "print(\"Biogaphy and Fiction %.2f\" % supportBF)\n",
        "print(\"Biogaphy and History: %.2f\" % supportBH)\n",
        "print(\"Fiction and Biogaphy: %.2f\" % supportFB)\n",
        "\n"
      ],
      "metadata": {
        "colab": {
          "base_uri": "https://localhost:8080/"
        },
        "id": "ONKM1f4P7vo6",
        "outputId": "f1ee91a9-9b2b-4df1-9a69-d03809d31235"
      },
      "execution_count": 29,
      "outputs": [
        {
          "output_type": "stream",
          "name": "stdout",
          "text": [
            "Biogaphy and Fiction 0.01\n",
            "Biogaphy and History: 0.43\n",
            "Fiction and Biogaphy: 0.01\n"
          ]
        }
      ]
    },
    {
      "cell_type": "markdown",
      "source": [
        "**Metrica de confianza:** se define como el soporte de los artículos X e Y dividido por el soporte del artículo X. La confianza nos dice la probabilidad de que compraremos Y, dado que hemos comprado X."
      ],
      "metadata": {
        "id": "5dDX7daY7mTk"
      }
    },
    {
      "cell_type": "code",
      "source": [
        "#Detecte un soporte importante en biografia e historia \n",
        "supportBH = np.logical_and(onehot['Biogaphy'], onehot['History']).mean()\n",
        "\n",
        "# Computo soporte de Biogaphy\n",
        "supportB = onehot['Biogaphy'].mean()\n",
        "\n",
        "# Computo soporte de History\n",
        "supportH = onehot['History'].mean()\n",
        "\n",
        "# Computo confianza en ambas Reglas\n",
        "confidenceBH = supportBH / supportB\n",
        "confidenceHB = supportBH / supportH\n",
        "\n",
        "# Resultados\n",
        "print('{0:.2f}, {1:.2f}'.format(supportB, supportH))\n",
        "print('{0:.2f}, {1:.2f}'.format(confidenceBH, confidenceHB))"
      ],
      "metadata": {
        "colab": {
          "base_uri": "https://localhost:8080/"
        },
        "id": "aofd2NmlEP3-",
        "outputId": "8e8c6ba5-38de-4636-86ad-7621c4b97a2c"
      },
      "execution_count": 30,
      "outputs": [
        {
          "output_type": "stream",
          "name": "stdout",
          "text": [
            "0.46, 0.96\n",
            "0.94, 0.45\n"
          ]
        }
      ]
    },
    {
      "cell_type": "code",
      "source": [
        "#Creo la funcion de Confianza\n",
        "def Confidence(antecedent, consequent):\n",
        "  supportAC = np.logical_and(antecedent, consequent).mean()\n",
        "  # Computo soporte de antecedent\n",
        "  supportA = antecedent.mean()\n",
        "\n",
        "# Computo soporte de consequent\n",
        "  supportC = consequent.mean()\n",
        "\n",
        "# Computo confianza en ambas Reglas\n",
        "  confidenceAC = supportAC / supportA\n",
        "  onfidenceCA = supportAC / supportC\n",
        "  return print('Confidence: {0:.2f}, {1:.2f}'.format(confidenceBH, confidenceHB))\n",
        "Confidence(onehot['Biogaphy'],onehot['History'])"
      ],
      "metadata": {
        "colab": {
          "base_uri": "https://localhost:8080/"
        },
        "id": "Ku2b-EnmIGCR",
        "outputId": "fe77d3a0-0f92-4af3-e19e-80450e96af2b"
      },
      "execution_count": 38,
      "outputs": [
        {
          "output_type": "stream",
          "name": "stdout",
          "text": [
            "Confidence: 0.94, 0.45\n"
          ]
        }
      ]
    },
    {
      "cell_type": "markdown",
      "source": [
        "Aunque el soporte es idéntico para las dos reglas de asociación, la confianza es mucho mayor para Biogaphy -> history, ya que History tiene un soporte mayor que Biogaphy."
      ],
      "metadata": {
        "id": "kUSmiGnXFHXr"
      }
    },
    {
      "cell_type": "code",
      "source": [
        "#Creo funcion de conviction\n",
        "def conviction(antecedent, consequent):\n",
        "\t# Compute support for antecedent AND consequent\n",
        "\tsupportAC = np.logical_and(antecedent, consequent).mean()\n",
        "\n",
        "\t# Compute support for antecedent\n",
        "\tsupportA = antecedent.mean()\n",
        "\n",
        "\t# Compute support for NOT consequent\n",
        "\tsupportnC = 1.0 - consequent.mean()\n",
        "\n",
        "\t# Compute support for antecedent and NOT consequent\n",
        "\tsupportAnC = supportA - supportAC\n",
        "\n",
        "    # Return conviction\n",
        "\treturn supportA * supportnC / supportAnC"
      ],
      "metadata": {
        "id": "07k4oVlK6s_a"
      },
      "execution_count": 32,
      "outputs": []
    },
    {
      "cell_type": "code",
      "source": [
        "\"\"\"# Compute conviction for twilight -> potter and potter -> twilight\n",
        "convictionTP = conviction(Biogaphy, potter)\n",
        "convictionPT = conviction(potter, twilight)\n",
        "\n",
        "# Compute conviction for twilight -> hunger and hunger -> twilight\n",
        "convictionTH = conviction(twilight, hunger)\n",
        "convictionHT = conviction(hunger, twilight)\n",
        "\n",
        "# Compute conviction for potter -> hunger and hunger -> potter\n",
        "convictionPH = conviction(potter, hunger)\n",
        "convictionHP = conviction(hunger,potter)\n",
        "\n",
        "# Print results\n",
        "print('Harry Potter -> Twilight: ', convictionHT)\n",
        "print('Twilight -> Potter: ', convictionTP)\"\"\""
      ],
      "metadata": {
        "id": "Ia5tmdjt6tNP",
        "colab": {
          "base_uri": "https://localhost:8080/",
          "height": 70
        },
        "outputId": "1dcb5a5c-3c8f-42fc-888a-1d39dbf4cb5a"
      },
      "execution_count": 33,
      "outputs": [
        {
          "output_type": "execute_result",
          "data": {
            "text/plain": [
              "\"# Compute conviction for twilight -> potter and potter -> twilight\\nconvictionTP = conviction(Biogaphy, potter)\\nconvictionPT = conviction(potter, twilight)\\n\\n# Compute conviction for twilight -> hunger and hunger -> twilight\\nconvictionTH = conviction(twilight, hunger)\\nconvictionHT = conviction(hunger, twilight)\\n\\n# Compute conviction for potter -> hunger and hunger -> potter\\nconvictionPH = conviction(potter, hunger)\\nconvictionHP = conviction(hunger,potter)\\n\\n# Print results\\nprint('Harry Potter -> Twilight: ', convictionHT)\\nprint('Twilight -> Potter: ', convictionTP)\""
            ],
            "application/vnd.google.colaboratory.intrinsic+json": {
              "type": "string"
            }
          },
          "metadata": {},
          "execution_count": 33
        }
      ]
    },
    {
      "cell_type": "code",
      "source": [
        "#Creo funcion de Lift\n",
        "def lift(antecedent, consequent):\n",
        "  supportAC = np.logical_and(antecedent, consequent).mean()\n",
        "  # Computo soporte de antecedent\n",
        "  supportA = antecedent.mean()\n",
        "\n",
        "# Computo soporte de consequent\n",
        "  supportC = consequent.mean()\n",
        "# Compute lift\n",
        "  lift = supportAC / (supportA * supportC)\n",
        "  return print(\"Lift: %.2f\" % lift)\n",
        "lift(onehot['Biogaphy'],onehot['History'])"
      ],
      "metadata": {
        "colab": {
          "base_uri": "https://localhost:8080/"
        },
        "id": "t8IDjKg6JW1d",
        "outputId": "73167155-1c3a-48d6-ec63-465836561e54"
      },
      "execution_count": 39,
      "outputs": [
        {
          "output_type": "stream",
          "name": "stdout",
          "text": [
            "Lift: 0.98\n"
          ]
        }
      ]
    },
    {
      "cell_type": "code",
      "source": [
        "# Define a function to compute Zhang's metric\n",
        "def zhang(antecedent, consequent):\n",
        "\t# Compute the support of each book\n",
        "\tsupportA = antecedent.mean()\n",
        "\tsupportC = consequent.mean()\n",
        "\n",
        "\t# Compute the support of both books\n",
        "\tsupportAC = np.logical_and(antecedent, consequent).mean()\n",
        "\n",
        "\t# Complete the expressions for the numerator and denominator\n",
        "\tnumerator = supportAC - supportA*supportC\n",
        "\tdenominator = max(supportAC*(1-supportA), supportA*(supportC-supportAC))\n",
        "\n",
        "\t# Return Zhang's metric\n",
        "\treturn numerator / denominator"
      ],
      "metadata": {
        "id": "7upSMwOjIKle"
      },
      "execution_count": 34,
      "outputs": []
    },
    {
      "cell_type": "code",
      "source": [
        "\"\"\"# Define an empty list for Zhang's metric\n",
        "zhangs_metric = []\n",
        "\n",
        "# Loop over lists in itemsets\n",
        "for itemset in itemsets:\n",
        "    # Extract the antecedent and consequent columns\n",
        "\tantecedent = books[itemset[0]]\n",
        "\tconsequent = books[itemset[1]]\n",
        "    \n",
        "    # Complete Zhang's metric and append it to the list\n",
        "\tzhangs_metric.append(zhang(antecedent, consequent))\n",
        "    \n",
        "# Print results\n",
        "rules['zhang'] = zhangs_metric\n",
        "print(rules)\"\"\""
      ],
      "metadata": {
        "id": "Kjk9VZTHtEoO",
        "colab": {
          "base_uri": "https://localhost:8080/",
          "height": 53
        },
        "outputId": "a674bf36-175e-4eb1-9b3d-9a057669ce12"
      },
      "execution_count": 35,
      "outputs": [
        {
          "output_type": "execute_result",
          "data": {
            "text/plain": [
              "\"# Define an empty list for Zhang's metric\\nzhangs_metric = []\\n\\n# Loop over lists in itemsets\\nfor itemset in itemsets:\\n    # Extract the antecedent and consequent columns\\n\\tantecedent = books[itemset[0]]\\n\\tconsequent = books[itemset[1]]\\n    \\n    # Complete Zhang's metric and append it to the list\\n\\tzhangs_metric.append(zhang(antecedent, consequent))\\n    \\n# Print results\\nrules['zhang'] = zhangs_metric\\nprint(rules)\""
            ],
            "application/vnd.google.colaboratory.intrinsic+json": {
              "type": "string"
            }
          },
          "metadata": {},
          "execution_count": 35
        }
      ]
    },
    {
      "cell_type": "code",
      "source": [],
      "metadata": {
        "id": "QWXyUaZitHXE"
      },
      "execution_count": 35,
      "outputs": []
    }
  ]
}