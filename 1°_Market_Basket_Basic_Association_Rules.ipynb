{
  "nbformat": 4,
  "nbformat_minor": 0,
  "metadata": {
    "colab": {
      "provenance": [],
      "collapsed_sections": [],
      "authorship_tag": "ABX9TyPWSNKEoAli+QqKoMsqXjom",
      "include_colab_link": true
    },
    "kernelspec": {
      "name": "python3",
      "display_name": "Python 3"
    },
    "language_info": {
      "name": "python"
    }
  },
  "cells": [
    {
      "cell_type": "markdown",
      "metadata": {
        "id": "view-in-github",
        "colab_type": "text"
      },
      "source": [
        "<a href=\"https://colab.research.google.com/github/lucasnserra/Market-Basket-Analysis-in-Python/blob/main/1%C2%B0_Market_Basket_Basic_Association_Rules.ipynb\" target=\"_parent\"><img src=\"https://colab.research.google.com/assets/colab-badge.svg\" alt=\"Open In Colab\"/></a>"
      ]
    },
    {
      "cell_type": "code",
      "execution_count": null,
      "metadata": {
        "id": "XT6o47CN4OBq"
      },
      "outputs": [],
      "source": [
        "#Importo Librerias\n",
        "import numpy as np\n",
        "import pandas as pd\n",
        "import datetime as dt\n",
        "import matplotlib.pyplot as plt\n",
        "import seaborn as sns\n",
        "from itertools import permutations"
      ]
    },
    {
      "cell_type": "code",
      "source": [
        "#Cargo dataset y convierto en lista (busqueda de antecedentes y consecuentes)\n",
        "transactions = pd.read_csv('https://raw.githubusercontent.com/lucasnserra/Market-Basket-Analysis-in-Python/main/bookstore_transactions.csv')\n",
        "transactions = transactions['Transaction'].apply(lambda t: t.split(','))\n",
        "transactions = list(transactions)\n"
      ],
      "metadata": {
        "id": "7-ICysPd6XDW"
      },
      "execution_count": null,
      "outputs": []
    },
    {
      "cell_type": "code",
      "source": [
        "#Utilizo Permutations de Itertools para crear una lista con todos los antecedendes y consecuentes unicos.\n",
        "#Estas lineas de codigo estan limitadas ya que funciona solamente con 1 antecedente y 1 consecuente. Tambien no limita o elige las mejores permutaciones \n",
        "flattened = [i for t in transactions for i in t]\n",
        "books = list(set(flattened))\n",
        "rules = list(permutations(books,2))\n",
        "#Obtengo cantidad de permutaciones distintas   \n",
        "len(rules)\n"
      ],
      "metadata": {
        "colab": {
          "base_uri": "https://localhost:8080/"
        },
        "id": "KiTderGy6Y_M",
        "outputId": "f0c79d11-fa42-40cb-b620-1dbae985e57f"
      },
      "execution_count": null,
      "outputs": [
        {
          "output_type": "execute_result",
          "data": {
            "text/plain": [
              "20"
            ]
          },
          "metadata": {},
          "execution_count": 49
        }
      ]
    },
    {
      "cell_type": "markdown",
      "source": [
        "Pipeline Pre-processing"
      ],
      "metadata": {
        "id": "pzi69Lncbi5N"
      }
    },
    {
      "cell_type": "code",
      "source": [
        "#Aplicacion de reglas  \n",
        "#-> Metrica (metric) = Medida de rendimiento de una regla\n",
        "#-> Poda (Pruning) = Utiliza una metrica para descargar reglas"
      ],
      "metadata": {
        "id": "Qjhy5hqbCiIl"
      },
      "execution_count": null,
      "outputs": []
    },
    {
      "cell_type": "code",
      "source": [
        "#Aplicacion de Metrica Support \n",
        "transactions2  = pd.read_csv('https://raw.githubusercontent.com/lucasnserra/Market-Basket-Analysis-in-Python/main/bookstore_transactions.csv')\n",
        "transactions2 = transactions2['Transaction'].apply(lambda t: t.split(','))\n",
        "transactions2 = list(transactions2)"
      ],
      "metadata": {
        "id": "oTzhizkCbuZh"
      },
      "execution_count": null,
      "outputs": []
    },
    {
      "cell_type": "code",
      "source": [
        "#importo la libreria necesaria para crear la metrica\n",
        "from mlxtend.preprocessing import TransactionEncoder\n",
        "#Creo el encoder y lo entreno\n",
        "encoder = TransactionEncoder().fit(transactions2)\n",
        "#Hago el OneHot (Crea una matriz de True o False si aparece el atributo en la fila)\n",
        "onehot = encoder.transform(transactions2)\n",
        "#Creo DF \n",
        "onehot = pd.DataFrame(onehot,columns=encoder.columns_)\n",
        "#Obtengo metrica de soporte calculando la media (por cada items)\n",
        "onehot.mean()\n",
        "\n"
      ],
      "metadata": {
        "colab": {
          "base_uri": "https://localhost:8080/"
        },
        "id": "0tFpaukTCtPm",
        "outputId": "c844bf90-2f99-4ca4-f1e6-f09258f895e5"
      },
      "execution_count": null,
      "outputs": [
        {
          "output_type": "execute_result",
          "data": {
            "text/plain": [
              "Biography    0.458716\n",
              "Bookmark     0.899083\n",
              "Fiction      0.330275\n",
              "History      0.229358\n",
              "Poetry       0.082569\n",
              "dtype: float64"
            ]
          },
          "metadata": {},
          "execution_count": 55
        }
      ]
    },
    {
      "cell_type": "code",
      "source": [
        "#Obtengo metrica de soporte por multiples items\n",
        "onehot['Biography+Fiction'] = np.logical_and(onehot['Biography'],onehot['Fiction'])\n",
        "onehot.mean() "
      ],
      "metadata": {
        "colab": {
          "base_uri": "https://localhost:8080/"
        },
        "id": "fzoFluBdFwE_",
        "outputId": "a703d4cc-f87c-4e01-d5b8-aa52f71809ad"
      },
      "execution_count": null,
      "outputs": [
        {
          "output_type": "execute_result",
          "data": {
            "text/plain": [
              "Biography            0.458716\n",
              "Bookmark             0.899083\n",
              "Fiction              0.330275\n",
              "History              0.229358\n",
              "Poetry               0.082569\n",
              "Biography+Fiction    0.100917\n",
              "dtype: float64"
            ]
          },
          "metadata": {},
          "execution_count": 56
        }
      ]
    },
    {
      "cell_type": "code",
      "source": [],
      "metadata": {
        "id": "7upSMwOjIKle"
      },
      "execution_count": null,
      "outputs": []
    }
  ]
}